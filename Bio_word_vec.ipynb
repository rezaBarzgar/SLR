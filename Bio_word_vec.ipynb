{
  "nbformat": 4,
  "nbformat_minor": 0,
  "metadata": {
    "colab": {
      "name": "Bio_word_vec.ipynb",
      "provenance": [],
      "collapsed_sections": [],
      "include_colab_link": true
    },
    "kernelspec": {
      "name": "python3",
      "display_name": "Python 3"
    },
    "language_info": {
      "name": "python"
    }
  },
  "cells": [
    {
      "cell_type": "markdown",
      "metadata": {
        "id": "view-in-github",
        "colab_type": "text"
      },
      "source": [
        "<a href=\"https://colab.research.google.com/github/rezaBarzgar/SLR/blob/main/Bio_word_vec.ipynb\" target=\"_parent\"><img src=\"https://colab.research.google.com/assets/colab-badge.svg\" alt=\"Open In Colab\"/></a>"
      ]
    },
    {
      "cell_type": "code",
      "metadata": {
        "id": "HuJh_G4eZUC5"
      },
      "source": [
        "import gensim\n",
        "from gensim.models import KeyedVectors\n",
        "from gensim.test.utils import datapath\n",
        "import nltk\n",
        "from nltk.corpus import stopwords\n",
        "nltk.download('stopwords')\n",
        "!pip install pymed\n",
        "import pymed\n",
        "from pymed import PubMed\n",
        "import pandas as pd\n",
        "from pandas import DataFrame as df\n",
        "import numpy as np"
      ],
      "execution_count": null,
      "outputs": []
    },
    {
      "cell_type": "markdown",
      "metadata": {
        "id": "kUAiEFed1j87"
      },
      "source": [
        "Downloadin data from figShare"
      ]
    },
    {
      "cell_type": "code",
      "metadata": {
        "id": "GzMI8ja3aXeL"
      },
      "source": [
        "url = 'https://ndownloader.figshare.com/files/12551759'\n",
        "wv_from_bin = KeyedVectors.load_word2vec_format(url, binary=True)"
      ],
      "execution_count": null,
      "outputs": []
    },
    {
      "cell_type": "markdown",
      "metadata": {
        "id": "LY2AfkrZ1uQh"
      },
      "source": [
        "Testing the Model"
      ]
    },
    {
      "cell_type": "code",
      "metadata": {
        "colab": {
          "base_uri": "https://localhost:8080/"
        },
        "id": "w8CJsWDsdAUW",
        "outputId": "1ae91781-d171-4f27-947d-226fcbe1d06a"
      },
      "source": [
        "wv_from_bin.similarity('cold','conjunctivitis')"
      ],
      "execution_count": null,
      "outputs": [
        {
          "output_type": "execute_result",
          "data": {
            "text/plain": [
              "0.40380546"
            ]
          },
          "metadata": {
            "tags": []
          },
          "execution_count": 25
        }
      ]
    },
    {
      "cell_type": "code",
      "metadata": {
        "colab": {
          "base_uri": "https://localhost:8080/"
        },
        "id": "5a7UV4EdgkO3",
        "outputId": "e19a2ed0-6358-45a3-b375-b8f9f6e50e85"
      },
      "source": [
        "wv_from_bin.most_similar(positive=['ketonuria', 'ketones'])"
      ],
      "execution_count": null,
      "outputs": [
        {
          "output_type": "execute_result",
          "data": {
            "text/plain": [
              "[('ketonemia', 0.8314430117607117),\n",
              " ('ketonemic', 0.7912544012069702),\n",
              " ('ketoacids', 0.7899306416511536),\n",
              " ('ketone', 0.7752881646156311),\n",
              " ('ketoacidaemia', 0.7740465402603149),\n",
              " ('ketonaemia', 0.7702386975288391),\n",
              " ('acetonuria', 0.7653355598449707),\n",
              " ('ketons', 0.7641968727111816),\n",
              " ('b-ketoacids', 0.7595287561416626),\n",
              " ('ketonuric', 0.7595204710960388)]"
            ]
          },
          "metadata": {
            "tags": []
          },
          "execution_count": 40
        }
      ]
    },
    {
      "cell_type": "markdown",
      "metadata": {
        "id": "3P__Q9qO1ycZ"
      },
      "source": [
        "**Preprocess on Query**"
      ]
    },
    {
      "cell_type": "code",
      "metadata": {
        "id": "kYKT30FVlTNR",
        "colab": {
          "base_uri": "https://localhost:8080/"
        },
        "outputId": "1c2e09c4-c496-4dd0-b045-c54becaaec0e"
      },
      "source": [
        "input_string = 'Ketonuria Excess of ketones present in urine Acetonuria (finding) Ketoacidurias Ketonaciduria Ketonurias Acetonurias'\n",
        "input_string = input_string.lower()\n",
        "stop_words = set(stopwords.words('english')) \n",
        "for ch in ['\\\\','`','*','_','{','}','[',']','(',')','>','#','+','.','!','$']:\n",
        "  input_string = input_string.replace(ch,'')\n",
        "string_list = input_string.split()\n",
        "filtered_sentence = [w for w in string_list if not w in stop_words] \n",
        "filtered_sentence"
      ],
      "execution_count": null,
      "outputs": [
        {
          "output_type": "execute_result",
          "data": {
            "text/plain": [
              "['ketonuria',\n",
              " 'excess',\n",
              " 'ketones',\n",
              " 'present',\n",
              " 'urine',\n",
              " 'acetonuria',\n",
              " 'finding',\n",
              " 'ketoacidurias',\n",
              " 'ketonaciduria',\n",
              " 'ketonurias',\n",
              " 'acetonurias']"
            ]
          },
          "metadata": {
            "tags": []
          },
          "execution_count": 38
        }
      ]
    },
    {
      "cell_type": "markdown",
      "metadata": {
        "id": "MmRw6lfs15cD"
      },
      "source": [
        "**Query expansion**"
      ]
    },
    {
      "cell_type": "code",
      "metadata": {
        "colab": {
          "base_uri": "https://localhost:8080/",
          "height": 69
        },
        "id": "svLW67ERp2U2",
        "outputId": "98799920-4850-4747-c1f1-2bb0fad8e256"
      },
      "source": [
        "string_list_2 = []\n",
        "for item in filtered_sentence:\n",
        "  if item in wv_from_bin.vocab:\n",
        "    string_list_2.append(item)\n",
        "\n",
        "similars = wv_from_bin.most_similar(positive=string_list_2, topn=30)\n",
        "\n",
        "query = ''\n",
        "for word in filtered_sentence:\n",
        "  query =query + ' ' + word\n",
        "for word in similars:\n",
        "  if word[0] not in stop_words:\n",
        "    query =query + ' ' + word[0]\n",
        "\n",
        "query"
      ],
      "execution_count": null,
      "outputs": [
        {
          "output_type": "execute_result",
          "data": {
            "application/vnd.google.colaboratory.intrinsic+json": {
              "type": "string"
            },
            "text/plain": [
              "' ketonuria excess ketones present urine acetonuria finding ketoacidurias ketonaciduria ketonurias acetonurias glucose-associated ketoacidosis-associated ketoacidosis-induced hyperaminoacidaemia ketonemia propionicacidemia hypercreatinaemia acetonemia investigationally result non-ketonuria introductionfunctional glycosuria addition hyperaminoacidemias hyperlability also uricacidemia propionic-acidemia possible hyperglyceroluria'"
            ]
          },
          "metadata": {
            "tags": []
          },
          "execution_count": 77
        }
      ]
    },
    {
      "cell_type": "code",
      "metadata": {
        "id": "Y5C6nZs50sY_"
      },
      "source": [
        "def pubmed_search(query):\n",
        "    pubmed = PubMed(tool=\"PubMedSearcher_reza\", email=\"reza.barzgar99@gmail.com\")\n",
        "\n",
        "    search_term = query\n",
        "\n",
        "    results = pubmed.query(search_term, max_results=200)\n",
        "    articleList = []\n",
        "    articleInfo = []\n",
        "\n",
        "    for article in results:\n",
        "        articleDict = article.toDict()\n",
        "        articleList.append(articleDict)\n",
        "\n",
        "    # Generate list of dict records which will hold all article details that could be fetch from PUBMED API\n",
        "    for article in articleList:\n",
        "        pubmedId = article['pubmed_id'].partition('\\n')[0]\n",
        "        # Append article info to dictionary\n",
        "        articleInfo.append({u'pubmed_id': pubmedId,\n",
        "                            u'title': article['title']})\n",
        "\n",
        "    # Generate Pandas DataFrame from list of dictionaries\n",
        "    articlesPD = pd.DataFrame.from_dict(articleInfo)\n",
        "  \n",
        "    return articlesPD.values.tolist()\n"
      ],
      "execution_count": null,
      "outputs": []
    },
    {
      "cell_type": "markdown",
      "metadata": {
        "id": "dLLMPIHW2M6R"
      },
      "source": [
        "**Search query in pubmed**"
      ]
    },
    {
      "cell_type": "code",
      "metadata": {
        "colab": {
          "base_uri": "https://localhost:8080/"
        },
        "id": "Mwm2-c4F0wQh",
        "outputId": "552496bf-f5a4-461a-d48b-485121acecb1"
      },
      "source": [
        "query = query.replace(' ', ' OR ')\n",
        "\n",
        "results = pubmed_search(query)\n",
        "for item in results:\n",
        "  print(item)"
      ],
      "execution_count": null,
      "outputs": [
        {
          "output_type": "stream",
          "text": [
            "['33892525', 'Ovalbumin/lipopolysaccharide induced vasculitis in rats: a new predictive model.']\n",
            "['33892523', 'Polymeric metal-containing ionic liquid sorbent coating for the determination of amines using headspace solid-phase microextraction.']\n",
            "['33892519', 'Rational use of ultrasonography with triaging of patients to detect dengue plasma leakage in resource limited settings: a prospective cohort study.']\n",
            "['33892518', 'Genetic landscape clustering of a large DNA barcoding dataset reveals shared patterns of genetic divergence among freshwater fishes of the Maroni Basin.']\n",
            "['33892517', 'First Detection of Rabbit Haemorrhagic Disease Virus (RHDV2) in Singapore.']\n",
            "['33892512', 'Phylogenetic and selection analysis of an expanded family of putatively pore-forming jellyfish toxins (Cnidaria: Medusozoa).']\n",
            "['33892511', 'Genomic signature of shifts in selection and alkaline adaptation in highland fish.']\n",
            "['33892498', 'The asgard archaeal-unique contribution to protein families of the eukaryotic common ancestor was 0.3.']\n",
            "['33892497', 'Association of Health-Care System with Prostate Cancer-Specific Mortality in African American and Non-Hispanic White Men.']\n",
            "['33892487', 'Transition Metal Dichalcogenide (TMDs) electrodes for Supercapacitors: A Comprehensive Review.']\n",
            "['33892481', 'Exploring SERS from complex patterns fabricated by multi-exposure laser interference lithography.']\n",
            "['33892478', 'Suction mask device: a simple, inexpensive, and effective method of reducing spread of aerosolized particles during endoscopic endonasal surgery in the era of COVID-19.']\n",
            "['33892471', 'The efficacy of neurosurgical intervention on sleep-disordered breathing in pediatric patients with Chiari malformation type I.']\n",
            "['33892458', 'Investigation of the 2018 Shiraz dust event: Potential sources of metals, rare earth elements, and radionuclides; health assessment.']\n",
            "['33892457', 'Optimal control towards sustainable wastewater treatment plants based on multi-agent reinforcement learning.']\n",
            "['33892454', 'A multicriteria decision analysis for the evaluation of microalgal growth and harvesting.']\n",
            "['33892453', 'Insights into the microbial degradation and biochemical mechanisms of carbamates.']\n",
            "['33892452', 'Organized breast cancer screening not only reduces mortality from breast cancer but also significantly decreases disability-adjusted life years: analysis of the Global Burden of Disease Study and screening programme availability in 130 countries.']\n",
            "['33892450', 'Study of the relationship between untypable and typable isolates of Streptococcus suis recovered from clinically ill and healthy nursery pigs.']\n",
            "['33892448', 'Role of interventional radiology in the management of complex pediatric surgical cases.']\n",
            "['33892439', 'Translation and validation of the Brazilian version of the Physical Appearance Comparison Scale-Revised in college women.']\n",
            "['33892438', '#quarantine15: A content analysis of Instagram posts during COVID-19.']\n",
            "['33892436', 'Non-epidermidis coagulase-negative Staphylococcus isolated from farm animals can inhibit the hemagglutinating activity of Newcastle disease virus and bovine parainfluenza virus type 3.']\n",
            "['33892435', 'Adsorption-desorption behavior of methylene blue onto aged polyethylene microplastics in aqueous environments.']\n",
            "['33892434', 'The electrophysiology of audiovisual processing in visual narratives in adolescents with autism spectrum disorder.']\n",
            "['33892424', 'Magnetic carbon nanofiber composite adsorbent through green in-situ conversion of bacterial cellulose for highly efficient removal of bisphenol A.']\n",
            "['33892419', 'Self-assembly of cyclic grafted copolymers with rigid rings and their potential as drug nanocarriers.']\n",
            "['33892417', 'Becoming a diagnostic agent: A collated ethnography of digital-sensory work in caregiving intra-actions.']\n",
            "['33892411', 'Baseline total metabolic tumour volume on 2-deoxy-2-[18F]fluoro-d-glucose positron emission tomography-computed tomography as a promising biomarker in patients with advanced non-small cell lung cancer treated with first-line pembrolizumab.']\n",
            "['33892410', 'The European Union and personalised cancer medicine.']\n",
            "['33892409', 'Association between non-alcoholic fatty liver disease and the risk of biliary tract cancers: A South Korean nationwide cohort study.']\n",
            "['33892407', 'Phase II and biomarker study of programmed cell death protein 1 inhibitor nivolumab and metronomic cyclophosphamide in paediatric relapsed/refractory solid tumours: Arm G of AcSé-ESMART, a trial of the European Innovative Therapies for Children With Cancer Consortium.']\n",
            "['33892403', 'Long COVID: An overview.']\n",
            "['33892402', 'The impact of the COVID-19 pandemic and governor mandated stay at home order on emergency department super utilizers.']\n",
            "['33892400', 'Extraction of physically meaningful endmembers from STEM spectrum-images combining geometrical and statistical approaches.']\n",
            "['33892398', 'ERK1/2 phosphorylation and IL-6 production are involved in the differential susceptibility to Toxoplasma gondii infection in three types of human (cyto/ syncytio/ extravillous) trophoblast cells.']\n",
            "['33892395', 'Hybrid organic/inorganic hybrid surface technology for increasing the performance of LC/MS(MS)-based drug metabolite identification studies: Application to gefitinib and metabolites in mouse plasma and urine.']\n",
            "['33892393', 'Detection of age and gender differences in walking using mobile wearable sensors.']\n",
            "['33892392', 'Hearing loss and increased gait variability among older adults.']\n",
            "['33892387', \"Structural and functional neuroimaging changes associated with cognitive impairment and dementia in Parkinson's disease.\"]\n",
            "['33892381', \"A current view on Tau protein phosphorylation in Alzheimer's disease.\"]\n",
            "['33892377', 'Exome hits demystified: The next frontier.']\n",
            "['33892369', 'Evaluation of mercury bioavailability to vegetables in the vicinity of cinnabar mine.']\n",
            "['33892368', 'Association of exposures to perchlorate, nitrate, and thiocyanate with allergic symptoms: A population-based nationwide cohort study.']\n",
            "['33892366', 'Global and countrywide prevalence of subclinical and clinical mastitis in dairy cattle and buffaloes by systematic review and meta-analysis.']\n",
            "['33892365', 'Oxidative and local histopathological response on skin wound of horses due to Amblyomma sculptum tick parasitism.']\n",
            "['33892362', 'Effect of non-covalent binding of phenolic derivatives with scallop (Patinopecten yessoensis) gonad protein isolates on protein structure and in vitro digestion characteristics.']\n",
            "['33892358', 'Riboflavin as an internal marker for spoilage and adulteration detection in milk.']\n",
            "['33892357', 'Development of non-enzymatic and photothermal immuno-sensing assay for detecting the enrofloxacin in animal derived food by utilizing black phosphorus-platinum two-dimensional nanomaterials.']\n",
            "['33892351', \"Factors influencing the COVID-19 daily deaths' peak across European countries.\"]\n",
            "['33892346', 'miR-145 micelles mitigate atherosclerosis by modulating vascular smooth muscle cell phenotype.']\n",
            "['33892339', 'Recessive LOXHD1 variants cause a prelingual down-sloping hearing loss: genotype-phenotype correlation and three additional children with novel variants.']\n",
            "['33892338', 'Comparative evaluation of high-density polyethylene and polystyrene microplastics pollutants: Uptake, elimination and effects in mussel.']\n",
            "['33892336', 'Transverse isotropic modelling of left-ventricle passive filling: Mechanical characterization for epicardial biomaterial manufacturing.']\n",
            "['33892333', 'Predictive value of sarcopenic findings in the psoas muscle on CT imaging among patients with sepsis.']\n",
            "['33892329', 'Reduced adrenal stress response in patients on PCSK9 inhibitor therapy.']\n",
            "['33892324', 'Enhanced adsorption of aqueous Pb(II) by modified biochar produced through pyrolysis of watermelon seeds.']\n",
            "['33892323', 'Effects of chronic sublethal progestogen exposure on development, reproduction, and detoxification system of water flea, Daphnia magna.']\n",
            "['33892321', 'Slow pyrolysis liquid in reducing NH']\n",
            "['33892318', 'Development of an acidized biochar-supported hydrated Fe(III) oxides for highly efficient cadmium and copper sequestration from water.']\n",
            "['33892316', 'Correlation between week 24 trastuzumab-dkst response and week 48 progression-free survival: the HERITAGE trial.']\n",
            "['33892314', 'Outcomes of COVID-19 Complications and their Possibilities as Potential Triggers of Stroke.']\n",
            "['33892313', 'Dystypia Associated with Diaschisis of the Middle Frontal Gyri after Left Angular Infarction.']\n",
            "['33892307', 'DenseCapsNet: Detection of COVID-19 from X-ray images using a capsule neural network.']\n",
            "['33892299', 'Protective effects of liquiritin on UVB-induced skin damage in SD rats.']\n",
            "['33892297', 'In silico approach for identifying natural lead molecules against SARS-COV-2.']\n",
            "['33892293', 'Isolation and characterization of bone marrow-derived mesenchymal stem cells in Xenopus laevis.']\n",
            "['33892286', 'Antibacterial and synergistic activity of 6β-hydroxy-3-oxolup-20(29)-en-28-oic acid (6β-hydroxy betunolic acid) isolated from Schumacheria castaneifolia vahl.']\n",
            "['33892285', 'AQP8 is a crucial H']\n",
            "['33892284', 'Dark adaptation and ability of pulse-amplitude modulated (PAM) fluorometry to identify nutrient limitation in the bloom-forming cyanobacterium, Microcystis aeruginosa (Kützing).']\n",
            "['33892280', 'Substance use prevention interventions for children and young people in Sub-Saharan Africa: A systematic review.']\n",
            "['33892278', 'A series of cases with Huntington-like phenotype and intermediate repeats in HTT.']\n",
            "['33892277', 'Sex-related differences in stressful events precipitating transient global amnesia - A retrospective observational study.']\n",
            "['33892268', 'Neuropsychological performance in youth with obsessive-compulsive disorder.']\n",
            "['33892267', 'Butyribacter intestini gen. nov., sp. nov., a butyric acid-producing bacterium of the family Lachnospiraceae isolated from human faeces, and reclassification of Acetivibrio ethanolgignens as Acetanaerobacter ethanolgignens gen. nov., comb. nov.']\n",
            "['33892264', 'Top-down control of attention under varying task loads.']\n",
            "['33892261', 'Influence of ultrasonic combined supercritical-CO']\n",
            "['33892258', 'Ultrasound-assisted of alkali chloride separation using bulk ionic liquid membrane.']\n",
            "['33892256', 'Predicting Kováts Retention Indices Using Graph Neural Networks.']\n",
            "['33892250', 'Spectra of tryptophan fluorescence are the result of co-existence of certain most abundant stabilized excited state and certain most abundant destabilized excited state.']\n",
            "['33892248', 'Response surface methodology for optimization of micellar-enhanced spectrofluorimetric method for assay of foretinib in bulk powder and human urine.']\n",
            "['33892246', 'A bifunctional fluorescent probe for simultaneous detection of GSH and H']\n",
            "['33892239', 'Magnetic MgFe']\n",
            "['33892236', 'Nutrient recovery from the digestate obtained by rumen fluid enhanced anaerobic co-digestion of sewage sludge and cattail: Precipitation by MgCl']\n",
            "['33892232', 'Miscanthus biochar value chain - A review.']\n",
            "['33892230', '[Evidence-Based Practice competency and associated factors among Primary Care nurses in Spain].']\n",
            "['33892228', 'Rice responses to silicon addition at different Fe status and growth pH. Evaluation of ploidy changes.']\n",
            "['33892222', 'Development and intercomparison of single and multicompartment physiologically-based toxicokinetic models: Implications for model selection and tiered modeling frameworks.']\n",
            "['33892220', 'Progressive multifocal leukoencephalopathy in an elderly immunocompetent-appearing patient: Relevance with L-selectin (CD62L) expression and immunosenescence.']\n",
            "['33892217', 'Comparative analysis of effectiveness of asthma control test-guided treatment versus usual care in patients with asthma from China.']\n",
            "['33892211', 'Fully automated Assessment of Knee Alignment from Full-Leg X-Rays employing a \"YOLOv4 And Resnet Landmark regression Algorithm\" (YARLA): Data from the Osteoarthritis Initiative.']\n",
            "['33892210', 'Maximizing sentinel node detection in endometrial cancer with dual cervical and transcervical fundal indocyanine green injection: 5-year single-center prospective study.']\n",
            "['33892209', 'The influence of the COVID-19 outbreak on European trainees in obstetrics and gynaecology: A survey of the impact on training and trainee.']\n",
            "['33892200', 'Systemic lupus erythematosus overlapping dermatomyositis owing to a heterozygous TREX1 Asp130Asn missense mutation.']\n",
            "['33892188', 'Co-opting regulation bypass repair as a gene correction strategy for monogenic diseases.']\n",
            "['33892185', 'Is chronic endometritis associated with tubal infertility? A prospective cohort study.']\n",
            "['33892184', 'A Systematic Review of the Treatment of Uterine Fibroids Using Transcervical Ultrasound-Guided Radiofrequency Ablation with the Sonata® System.']\n",
            "['33892178', 'Osteocyte Mechanosensing following short-term and long-term treatment with Sclerostin antibody.']\n",
            "['33892177', 'microRNAs and bone tumours: role of tiny molecules in the development and progression of chondrosarcoma, of giant cell tumour of bone and of Ewing sarcoma.']\n",
            "['33892176', 'Scleraxis upregulated by transforming growth factor-β1 signaling inhibits tension-induced osteoblast differentiation of priodontal ligament cells via ephrin A2.']\n",
            "['33892173', 'The Cytoskeleton and Connected Elements in Bone Cell Mechano-Transduction.']\n",
            "['33892165', 'Modified Computed Tomography Classification for Chronic Subdural Hematoma Features Good Inter-Rater Agreement: A Single-Center Retrospective Cohort Study.']\n",
            "['33892151', 'The persistent pain transcriptome: identification of cells and molecules activated by hyperalgesia.']\n",
            "['33892149', 'Biophysical impact of sphingosine and other abnormal lipid accumulation in Niemann-Pick disease type C cell models.']\n",
            "['33892146', 'Computational resources in the management of antibiotic resistance: speeding up drug discovery.']\n",
            "['33892144', 'Nanotechnological approaches for targeting amyloid-β aggregation with potential for neurodegenerative disease therapy and diagnosis.']\n",
            "['33892136', 'Photodynamic Therapy (PDT) for Retinal Hemangioblastoma: Treatment Outcomes in 17 Consecutive Patients.']\n",
            "['33892133', 'Effects of the COVID-19 pandemic on the global health of women aged 50 to 70\\u202fyears.']\n",
            "['33892130', 'The first record of Vairimorpha hostounsky sp. nov. Infection in the blue shieldbug, Zicrona caerulea Linnaeus, 1758 (Hemiptera: Pentatomidae).']\n",
            "['33892129', 'Construction and immune efficacy of recombinant Lactobacillus casei expressing OmpAI of Aeromonas veronii C5-I as molecular adjuvant.']\n",
            "['33892128', 'The development of an in vitro 3D model of goblet cell hyperplasia using MUC5AC expression and repeated whole aerosol exposures.']\n",
            "['33892127', 'Acute Severe Renal Artery Stenosis Presenting as Acute Kidney Injury with Severe Hypertension, and Active Urine Sediment.']\n",
            "['33892126', 'A new antibacterial 3,5-dimethylorsellinic acid-based meroterpene from the marine fungus Aspergillus sp. CSYZ-1.']\n",
            "['33892125', 'A novel acylated flavonol tetraglycoside and rare oleanane saponins with a unique acetal-linked dicarboxylic acid substituent from the xero-halophyte Bassia indica.']\n",
            "['33892124', 'Algae biostimulants: A critical look at microalgal biostimulants for sustainable agricultural practices.']\n",
            "['33892116', 'Cellular crosstalk in cardioprotection: where and when do reactive oxygen species play a role?']\n",
            "['33892108', 'Efficient and modified 2-NBDG assay to measure glucose uptake in cultured myotubes.']\n",
            "['33892105', 'Isolation, Synthesis and Absolute Configuration of 4,5-dihydroxypiperines improved behavioral disorder in AlCl']\n",
            "['33892097', 'Backbone phylogeny and evolution of Apioideae (Apiaceae): New insights from phylogenomic analyses of plastome data.']\n",
            "['33892095', \"Initiating Students' Reflections on Life's Passing in the Anatomy Course - An International Observation at 14 Universities.\"]\n",
            "['33892091', 'Borneol in cardio-cerebrovascular diseases: pharmacological actions, mechanisms, and therapeutics.']\n",
            "['33892088', 'COVID-19 and the research scholarship ecosystem: help!']\n",
            "['33892086', 'Effective Dose 50 method as the Minimal Clinically Important Difference: Evidence from depression trials.']\n",
            "['33892085', 'Depletion of CIP2A inhibits the proliferation, migration, invasion and epithelial-mesenchymal transition of glioma cells.']\n",
            "['33892084', 'The effect of intracerebroventricular amyloid beta 1-42 application on cognitive functions in aged rats supplemented with taurine and the change of peroxisomal proteins in this process.']\n",
            "['33892082', \"The Dynamics of Nigrostriatal System Damage and Neurobehavioral Changes in the Rotenone Rat Model of Parkinson's Disease.\"]\n",
            "['33892081', 'Novel molecular markers of cardiovascular disease risk in type 2 diabetes mellitus.']\n",
            "['33892079', 'Cationic liposome-encapsulated carotenoids as a potential treatment for fibromyalgia in an animal model.']\n",
            "['33892078', \"Oxidative modification impairs SERCA activity in Drosophila and human cell models of Parkinson's disease.\"]\n",
            "['33892068', 'The TCM prescription Ma-xing-shi-gan-tang inhibits Streptococcus pneumoniae pathogenesis by targeting pneumolysin.']\n",
            "['33892067', 'Luffa operculata at a late period of gestation dysregulates melatonin and cytokines interfering with weight of dams and their male offspring.']\n",
            "['33892066', 'Immunostimulatory effects of the intracellular polysaccharides isolated from liquid culture of Ophiocordyceps sinensis (Ascomycetes) on RAW264.7 cells via the MAPK and P13K/Akt signaling pathways.']\n",
            "['33892064', 'Evaluation of the toxic potential of the aqueous extract from Mangifera indica Linn. (Anacardiaceae) in rats submitted to experimental models of acute and subacute oral toxicity.']\n",
            "['33892054', 'Improving kidney targeting: The influence of nanoparticle physicochemical properties on kidney interactions.']\n",
            "['33892052', 'Extrachromosomal DNA: Redefining the pathogenesis of glioblastoma.']\n",
            "['33892050', \"Genetic diversity of axon degenerative mechanisms in models of Parkinson's disease.\"]\n",
            "['33892039', 'Tailoring the biodegradability of polylactic acid (PLA) based films and ramie- PLA green composites by using selective additives.']\n",
            "['33892038', 'Development and characterization of chitosan films carrying Artemisia campestris antioxidants for potential use as active food packaging materials.']\n",
            "['33892036', 'Purification and characterization of novel, thermostable and non-processive GH5 family endoglucanase from Fomitopsis meliae CFA 2.']\n",
            "['33892034', 'Incompatibility between sodium caseinate - locust bean gum induced by NaCl and yerba mate extract.']\n",
            "['33892030', 'Berberine carried gelatin/sodium alginate hydrogels with antibacterial and EDTA-induced detachment performances.']\n",
            "['33892029', 'Hydrogel from all in all lignocellulosic sisal fibers macromolecular components.']\n",
            "['33892028', 'Soft matter polysaccharide-based hydrogels as a versatile bioengineered platforms for brain tissue repair and regeneration.']\n",
            "['33892018', 'Preliminary Risk assessment for Acrylamide and Peripheral Neuropathy.']\n",
            "['33892014', 'Sensitivity of SARS-CoV-2 RNA polymerase chain reaction using a clinical and radiological reference standard: Clinical sensitivity of SARS-CoV-2 PCR.']\n",
            "['33892013', 'Ecotin and LamB in Escherichia coli influence the susceptibility to Type VI secretion-mediated interbacterial competition and killing by Vibrio cholerae.']\n",
            "['33892006', 'Low immunogenicity to SARS-CoV-2 vaccination among liver transplant recipients.']\n",
            "['33892001', 'Cannabinoid receptor-1 has an effect on CD200 under rotenone and alpha-synuclein induced stress.']\n",
            "['33892000', 'Mini-review: Effects of deep transcranial magnetic stimulation (dTMS) on cognition.']\n",
            "['33891997', 'Cadmium induces endoplasmic reticulum stress-mediated apoptosis in pig pancreas via the increase of Th1 cells.']\n",
            "['33891996', 'Examining the gut-liver axis in liver cancer using organoid models.']\n",
            "['33891995', 'Social and non-social gaze cueing in autism spectrum disorder, attention-deficit/hyperactivity disorder and a comorbid group.']\n",
            "['33891989', 'The Impact of Infections on Reimbursement in 92 US Hospitals, 2015-2018.']\n",
            "['33891979', 'Stereotactic Radiosurgery for Post-Operative Metastatic Surgical Cavities: A Critical Review and International Society of Stereotactic Radiosurgery (ISRS) Practice Guidelines.']\n",
            "['33891977', 'Prolactin, metabolic and immune parameters in naïve subjects with a first episode of psychosis.']\n",
            "['33891970', 'Ly-6D of Japanese flounder (Paralichthys olivaceus) functions as a complement regulator and promotes host clearance of pathogen.']\n",
            "['33891967', 'Sialic acid removal by trans-sialidase modulates MMP-2 activity during Trypanosoma cruzi infection.']\n",
            "['33891963', 'High-throughput and high-sensitivity N-Glycan profiling: a platform for biopharmaceutical development and disease biomarker discovery.']\n",
            "['33891961', 'Urban air pollution induces alterations in redox metabolism and mitochondrial dysfunction in mice brain cortex.']\n",
            "['33891958', 'Epigenetic related changes on air quality.']\n",
            "['33891955', 'Procyanidin B2 and rutin in Ginkgo biloba extracts protect human retinal pigment epithelial (RPE) cells from oxidative stress by modulating Nrf2 and Erk1/2 signalling.']\n",
            "['33891954', 'Krüppel-like factor 7 protects retinal ganglion cells and promotes functional preservation via activating the Akt pathway after retinal ischemia-reperfusion injury.']\n",
            "['33891947', 'Repression of transcription by the glucocorticoid receptor: A parsimonious model for the genomics era.']\n",
            "['33891942', 'Reduction in TNF alpha and oxidative stress by liraglutide: Impact on ketamine-induced cognitive dysfunction and hyperlocomotion in rats.']\n",
            "['33891940', 'Novel small molecular inhibitor of Pit-Oct-Unc transcription factor 1 suppresses hepatocellular carcinoma cell proliferation.']\n",
            "['33891930', 'Enucleation vs. Resection: A matched-pair analysis of TURP, HoLEP and bipolar TUEP in medium-sized prostates.']\n",
            "['33891928', 'Oncocytic Papillary Renal Cell Carcinoma in an 11-year-old girl.']\n",
            "['33891927', 'Safety and Outcomes of using ureteric access sheath (UAS) for treatment of Paediatric renal stones: Outcomes from 2 tertiary endourology centres.']\n",
            "['33891925', 'Comparison of Robotic Surgery Video Quality Between YouTube and Curated Sources Using GEARS Criteria.']\n",
            "['33891924', 'Characterizing the Epidemiology and Provider Landscape of Male Infertility Care in the United States.']\n",
            "['33891905', 'The persistent question of potassium channel permeation mechanisms.']\n",
            "['33891904', 'Interactions between ligand-bound EGFR and VEGFR2.']\n",
            "['33891903', 'Programmed flagellar ejection in Caulobacter crescentus leaves PL-subcomplexes.']\n",
            "['33891902', 'Structural insights into transporter-mediated drug resistance in infectious diseases.']\n",
            "['33891899', 'Human placental cytotrophoblast epigenome dynamics over gestation and alterations in placental disease.']\n",
            "['33891893', 'EPHA2-dependent outcompetition of KRASG12D mutant cells by wild-type neighbors in the adult pancreas.']\n",
            "['33891890', 'Targeting cell-cycle machinery in cancer.']\n",
            "['33891889', 'Immune dysregulation and autoreactivity correlate with disease severity in SARS-CoV-2-associated multisystem inflammatory syndrome in children.']\n",
            "['33891888', 'Evidence-based approaches for the management of side-effects of adjuvant endocrine therapy in patients with breast cancer.']\n",
            "['33891885', 'Evaluating the potential economic and health impact of rotavirus vaccination in 63 middle-income countries not eligible for Gavi funding: a modelling study.']\n",
            "['33891883', 'Continuous-Infusion Foscarnet Facilitates Administration in Hematopoietic Stem Cell Transplantation Patients.']\n",
            "['33891873', 'Automatic identification of small molecules that promote cell conversion and reprogramming.']\n",
            "['33891839', 'Hidden Basal Cell Carcinoma in the Intergluteal Crease.']\n",
            "['33891838', 'Cutaneous Manifestations of COVID-19.']\n",
            "['33891835', 'Cutaneous Manifestations of Nutritional Excess: Pathophysiologic Effects of Hyperglycemia and Hyperinsulinemia on the Skin.']\n",
            "['33891834', \"What's Eating You? Black Butterfly (Hylesia nigricans).\"]\n",
            "['33891830', 'Key Insights and Research Prospects at the Dawn of the Population Genomics Era for ']\n",
            "['33891829', 'Research Advances in Potyviruses: From the Laboratory Bench to the Field.']\n",
            "['33891822', 'Infrared Spectra and Theoretical Calculations of BSe']\n",
            "['33891819', 'Reducing Challenges in Organic Synthesis with Stereoselective Hydrogenation and Tandem Catalysis.']\n",
            "['33891815', 'Insecticidal Compound from ']\n",
            "['33891813', 'Self-Assembled Nickel-4 Supramolecular Squares and Assays for HER Electrocatalysts Derived Therefrom.']\n",
            "['33891811', 'Effect of Air Exposure of ZnMgO Nanoparticle Electron Transport Layer on Efficiency of Quantum-Dot Light-Emitting Diodes.']\n",
            "['33891806', 'Body donation, teaching and research in dissection rooms in Spain in times of Covid-19.']\n",
            "['33891792', 'Diversity and functional characterization of endophytic Methylobacterium isolated from banana cultivars of South India and its impact on early growth of tissue culture banana plantlets.']\n",
            "['33891789', 'Role of rotational motion in diffusion NMR experiments on supramolecular assemblies: application to Sup35NM fibrils.']\n",
            "['33891788', 'Estimation of genetic parameters for body areas in Nile tilapia measured by digital image analysis.']\n",
            "['33891785', 'Icariin reduces Glu-induced excitatory neurotoxicity via antioxidative and antiapoptotic pathways in SH-SY5Y cells.']\n",
            "['33891781', 'Quantum Plasmonics: Energy Transport Through Plasmonic Gap.']\n",
            "['33891779', 'The Lyme disease spirochete can hijack the host immune system for extravasation from the microvasculature.']\n"
          ],
          "name": "stdout"
        }
      ]
    }
  ]
}