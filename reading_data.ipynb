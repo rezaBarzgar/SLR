{
  "nbformat": 4,
  "nbformat_minor": 0,
  "metadata": {
    "colab": {
      "name": "reza.ipynb",
      "provenance": [],
      "collapsed_sections": [],
      "authorship_tag": "ABX9TyN1sSkKYwRO7zA31d48i9Rp",
      "include_colab_link": true
    },
    "kernelspec": {
      "name": "python3",
      "display_name": "Python 3"
    }
  },
  "cells": [
    {
      "cell_type": "markdown",
      "metadata": {
        "id": "view-in-github",
        "colab_type": "text"
      },
      "source": [
        "<a href=\"https://colab.research.google.com/github/rezaBarzgar/SLR/blob/main/reading_data.ipynb\" target=\"_parent\"><img src=\"https://colab.research.google.com/assets/colab-badge.svg\" alt=\"Open In Colab\"/></a>"
      ]
    },
    {
      "cell_type": "code",
      "metadata": {
        "colab": {
          "base_uri": "https://localhost:8080/"
        },
        "id": "JcwQVFoXrrxF",
        "outputId": "4d6b8203-81fc-4392-9ec2-aa9b2849b052"
      },
      "source": [
        "!git clone https://github.com/CLEF-TAR/tar.git"
      ],
      "execution_count": null,
      "outputs": [
        {
          "output_type": "stream",
          "text": [
            "Cloning into 'tar'...\n",
            "remote: Enumerating objects: 1623, done.\u001b[K\n",
            "remote: Counting objects: 100% (12/12), done.\u001b[K\n",
            "remote: Compressing objects: 100% (12/12), done.\u001b[K\n",
            "remote: Total 1623 (delta 2), reused 0 (delta 0), pack-reused 1611\u001b[K\n",
            "Receiving objects: 100% (1623/1623), 163.02 MiB | 21.13 MiB/s, done.\n",
            "Resolving deltas: 100% (595/595), done.\n",
            "Checking out files: 100% (1481/1481), done.\n"
          ],
          "name": "stdout"
        }
      ]
    },
    {
      "cell_type": "code",
      "metadata": {
        "id": "M6xoaGIUr8H7"
      },
      "source": [
        "import glob\n",
        "import numpy as np"
      ],
      "execution_count": null,
      "outputs": []
    },
    {
      "cell_type": "code",
      "metadata": {
        "id": "z2qhTWPIsH2i"
      },
      "source": [
        "files = glob.glob('/content/tar/2019-TAR/Task2/Training/DTA/topics/*')\n",
        "shape1 = len(files)\n",
        "topics = np.ndarray(shape=(shape1,2), dtype=object)\n",
        "for i in range(len(files)):\n",
        "  with open(files[i],'r') as file:\n",
        "    topics[i,0] = file.readline()[7:-2]\n",
        "    file.readline()\n",
        "    topics[i,1] = file.readline()[7:-2]\n",
        "\n",
        "np.save('topics',topics)\n",
        "    \n",
        "    "
      ],
      "execution_count": null,
      "outputs": []
    },
    {
      "cell_type": "code",
      "metadata": {
        "colab": {
          "base_uri": "https://localhost:8080/"
        },
        "id": "HCP1y_t5sVq-",
        "outputId": "fbac0501-50ae-4b9b-ceec-aea76abafbb3"
      },
      "source": [
        "relevants = []\n",
        "\n",
        "file1 = open('/content/tar/2019-TAR/Task1/Training/DTA/qrels/task1.train.abs.2019.qrels', 'r')\n",
        "Lines = file1.readlines()\n",
        "\n",
        "for line in Lines:\n",
        "    line = line.split(' ')\n",
        "    relevants.append([line[0],line[7]])\n",
        "\n",
        "results = np.array(relevants)  \n",
        "  \n",
        "print(results)\n",
        "np.save('results',results)\n"
      ],
      "execution_count": null,
      "outputs": [
        {
          "output_type": "stream",
          "text": [
            "[['CD007431' '3449306']\n",
            " ['CD007431' '4260586']\n",
            " ['CD007431' '4651047']\n",
            " ...\n",
            " ['CD008759' '21691209']\n",
            " ['CD008759' '14752839']\n",
            " ['CD008759' '17577118']]\n"
          ],
          "name": "stdout"
        }
      ]
    }
  ]
}